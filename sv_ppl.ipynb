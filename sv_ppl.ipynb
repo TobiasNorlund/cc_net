{
 "cells": [
  {
   "cell_type": "code",
   "execution_count": 15,
   "metadata": {},
   "outputs": [],
   "source": [
    "import gzip\n",
    "import json\n",
    "from pathlib import Path\n",
    "import matplotlib.pyplot as plt\n",
    "from tqdm import tqdm\n",
    "from scipy.stats import scoreatpercentile"
   ]
  },
  {
   "cell_type": "code",
   "execution_count": 22,
   "metadata": {},
   "outputs": [
    {
     "name": "stderr",
     "output_type": "stream",
     "text": [
      "  0%|          | 0/31 [00:00<?, ?it/s]"
     ]
    },
    {
     "name": "stderr",
     "output_type": "stream",
     "text": [
      "100%|██████████| 31/31 [00:26<00:00,  1.17it/s]\n"
     ]
    }
   ],
   "source": [
    "shard_files = [p for p in Path(\"data/mined_split/2023-50\").glob(\"*/sv_all.json.gz\") if not \"tmp\" in str(p)]\n",
    "ppl = []\n",
    "for shard in tqdm(shard_files):\n",
    "    with gzip.open(shard) as f:\n",
    "        for line in f:\n",
    "            d = json.loads(line)\n",
    "            ppl.append(d[\"perplexity\"])"
   ]
  },
  {
   "cell_type": "code",
   "execution_count": 23,
   "metadata": {},
   "outputs": [
    {
     "data": {
      "image/png": "[encoded data removed]",
      "text/plain": [
       "<Figure size 640x480 with 1 Axes>"
      ]
     },
     "metadata": {},
     "output_type": "display_data"
    }
   ],
   "source": [
    "plt.hist(ppl, bins=100, range=(0, 6000))\n",
    "plt.show()"
   ]
  },
  {
   "cell_type": "code",
   "execution_count": 24,
   "metadata": {},
   "outputs": [
    {
     "name": "stdout",
     "output_type": "stream",
     "text": [
      "Head threshold: 621.1\n",
      "Tail threshold: 1113.7\n"
     ]
    }
   ],
   "source": [
    "print(f\"Head threshold: {scoreatpercentile(ppl, per=33.3)}\")\n",
    "print(f\"Tail threshold: {scoreatpercentile(ppl, per=66.6)}\")"
   ]
  },
  {
   "cell_type": "code",
   "execution_count": 26,
   "metadata": {},
   "outputs": [
    {
     "name": "stdout",
     "output_type": "stream",
     "text": [
      ",sv\n",
      ",6\n",
      ",214\n",
      ",265\n",
      ",296\n",
      ",319\n",
      ",338\n",
      ",354\n",
      ",369\n",
      ",383\n",
      ",395\n",
      ",406\n",
      ",417\n",
      ",428\n",
      ",438\n",
      ",448\n",
      ",458\n",
      ",467\n",
      ",476\n",
      ",485\n",
      ",494\n",
      ",503\n",
      ",512\n",
      ",521\n",
      ",529\n",
      ",538\n",
      ",547\n",
      ",555\n",
      ",564\n",
      ",573\n",
      ",582\n",
      ",591\n",
      ",600\n",
      ",609\n",
      ",618\n",
      ",628\n",
      ",638\n",
      ",647\n",
      ",657\n",
      ",666\n",
      ",677\n",
      ",687\n",
      ",698\n",
      ",708\n",
      ",720\n",
      ",731\n",
      ",742\n",
      ",754\n",
      ",766\n",
      ",779\n",
      ",792\n",
      ",805\n",
      ",819\n",
      ",833\n",
      ",847\n",
      ",862\n",
      ",878\n",
      ",894\n",
      ",911\n",
      ",928\n",
      ",946\n",
      ",964\n",
      ",984\n",
      ",1005\n",
      ",1026\n",
      ",1049\n",
      ",1073\n",
      ",1098\n",
      ",1125\n",
      ",1152\n",
      ",1182\n",
      ",1214\n",
      ",1248\n",
      ",1284\n",
      ",1322\n",
      ",1364\n",
      ",1407\n",
      ",1455\n",
      ",1506\n",
      ",1562\n",
      ",1622\n",
      ",1688\n",
      ",1760\n",
      ",1838\n",
      ",1922\n",
      ",2014\n",
      ",2119\n",
      ",2236\n",
      ",2370\n",
      ",2518\n",
      ",2686\n",
      ",2879\n",
      ",3106\n",
      ",3378\n",
      ",3715\n",
      ",4141\n",
      ",4706\n",
      ",5454\n",
      ",6594\n",
      ",8565\n",
      ",13040\n"
     ]
    }
   ],
   "source": [
    "print(\",sv\")\n",
    "for i in range(100):\n",
    "    print(f\",{round(scoreatpercentile(ppl, per=i))}\")"
   ]
  }
 ],
 "metadata": {
  "kernelspec": {
   "display_name": "Python 3",
   "language": "python",
   "name": "python3"
  },
  "language_info": {
   "codemirror_mode": {
    "name": "ipython",
    "version": 3
   },
   "file_extension": ".py",
   "mimetype": "text/x-python",
   "name": "python",
   "nbconvert_exporter": "python",
   "pygments_lexer": "ipython3",
   "version": "3.10.13"
  }
 },
 "nbformat": 4,
 "nbformat_minor": 2
}
